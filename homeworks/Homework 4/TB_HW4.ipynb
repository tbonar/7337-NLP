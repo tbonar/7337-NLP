{
 "cells": [
  {
   "cell_type": "markdown",
   "metadata": {},
   "source": [
    "# HW4\n",
    "## MSDS-7337\n",
    "## Author: Taylor Bonar\n",
    "---\n",
    "1. Run one of the part-of-speech (POS) taggers available in Python. \n",
    "   * Find the longest sentence you can, longer than 10 words, that the POS tagger tags correctly. Show the input and output.\n",
    "   * Find the shortest sentence you can, shorter than 10 words, that the POS tagger fails to tag 100 percent correctly. Show the input and output. Explain your conjecture as to why the tagger might have been less than perfect with this sentence.\n"
   ]
  },
  {
   "cell_type": "code",
   "execution_count": 6,
   "metadata": {},
   "outputs": [
    {
     "name": "stdout",
     "output_type": "stream",
     "text": [
      "Python Version: 3.8.3\n",
      "NLTK v.3.5\n",
      "spaCY v.3.0.6\n"
     ]
    }
   ],
   "source": [
    "from platform import python_version\n",
    "import nltk\n",
    "import spacy\n",
    "print(f\"\"\"Python Version: {python_version()}\n",
    "NLTK v.{nltk.__version__}\n",
    "spaCY v.{spacy.__version__}\"\"\")\n",
    "\n",
    "nlp = spacy.load(\"en_core_web_sm\")"
   ]
  },
  {
   "cell_type": "code",
   "execution_count": 7,
   "metadata": {},
   "outputs": [
    {
     "name": "stdout",
     "output_type": "stream",
     "text": [
      "Original Long Quote: \"Don't judge each day by the harvest you reap but by the seeds that you plant. \" -- Robert Louis Stevenson\n",
      "Long sentence POS tags:\n",
      "[('Do', 'VBP'), (\"n't\", 'RB'), ('judge', 'VB'), ('each', 'DT'), ('day', 'NN'), ('by', 'IN'), ('the', 'DT'), ('harvest', 'NN'), ('you', 'PRP'), ('reap', 'VBP'), ('but', 'CC'), ('by', 'IN'), ('the', 'DT'), ('seeds', 'NNS'), ('that', 'IN'), ('you', 'PRP'), ('plant', 'NN'), ('.', '.')]\n",
      "\n",
      "Original Quote: \"To be great is to be misunderstood.\" -- Ralph Waldo Emmerson\n",
      "Short sentence POS tags:\n",
      "[('To', 'TO'), ('be', 'VB'), ('great', 'JJ'), ('is', 'VBZ'), ('to', 'TO'), ('be', 'VB'), ('misunderstood', 'NN'), ('.', '.')]\n",
      "\n"
     ]
    }
   ],
   "source": [
    "long_sentence = \"Don't judge each day by the harvest you reap but by the seeds that you plant. \"\n",
    "short_sentence = \"To be great is to be misunderstood.\"\n",
    "\n",
    "long_pos_tags = nltk.pos_tag(nltk.word_tokenize(long_sentence))\n",
    "short_pos_tags = nltk.pos_tag(nltk.word_tokenize(short_sentence))\n",
    "\n",
    "print(f\"\"\"Original Long Quote: \"{long_sentence}\" -- Robert Louis Stevenson\n",
    "Long sentence POS tags:\n",
    "{long_pos_tags}\n",
    "\n",
    "Original Quote: \"{short_sentence}\" -- Ralph Waldo Emmerson\n",
    "Short sentence POS tags:\n",
    "{short_pos_tags}\n",
    "\"\"\")"
   ]
  },
  {
   "cell_type": "markdown",
   "metadata": {},
   "source": [
    "The tagger may be less correct on tagging the parts of speech on the shorter sentence, as there are less contextual clues to utilize. For instance, the word \"is\" was categorized as \"VBZ\" which is the 3rd singular present term of a verb. This is usually used for identifying third-person verbs ending with the suffix -s or -es. However, the word \"is\" a base verb, but one can argue that the way it is utilized in the sentence is in a third-person point of view.\n",
    "\n",
    "----\n",
    "\n",
    "2.\tRun a different POS tagger in Python. Process the same two sentences from question 1.\n",
    "    * Does it produce the same or different output?\n",
    "    * Explain any differences as best you can.\n"
   ]
  },
  {
   "cell_type": "code",
   "execution_count": 21,
   "metadata": {},
   "outputs": [
    {
     "name": "stdout",
     "output_type": "stream",
     "text": [
      "Original Long Quote: \"Don't judge each day by the harvest you reap but by the seeds that you plant. \" -- Robert Louis Stevenson\n",
      "NLTK POS tags:\n",
      "[('Do', 'VBP'), (\"n't\", 'RB'), ('judge', 'VB'), ('each', 'DT'), ('day', 'NN'), ('by', 'IN'), ('the', 'DT'), ('harvest', 'NN'), ('you', 'PRP'), ('reap', 'VBP'), ('but', 'CC'), ('by', 'IN'), ('the', 'DT'), ('seeds', 'NNS'), ('that', 'IN'), ('you', 'PRP'), ('plant', 'NN'), ('.', '.')]\n",
      "spaCY POS tags:\n",
      "[('Do', 'AUX'), (\"n't\", 'PART'), ('judge', 'VERB'), ('each', 'DET'), ('day', 'NOUN'), ('by', 'ADP'), ('the', 'DET'), ('harvest', 'NOUN'), ('you', 'PRON'), ('reap', 'VERB'), ('but', 'CCONJ'), ('by', 'ADP'), ('the', 'DET'), ('seeds', 'NOUN'), ('that', 'DET'), ('you', 'PRON'), ('plant', 'VERB'), ('.', 'PUNCT')]\n",
      "\n",
      "Original Quote: \"To be great is to be misunderstood.\" -- Ralph Waldo Emmerson\n",
      "NLTK POS tags:\n",
      "[('To', 'TO'), ('be', 'VB'), ('great', 'JJ'), ('is', 'VBZ'), ('to', 'TO'), ('be', 'VB'), ('misunderstood', 'NN'), ('.', '.')]\n",
      "spaCY POS tags:\n",
      "[('To', 'PART'), ('be', 'VERB'), ('great', 'ADJ'), ('is', 'AUX'), ('to', 'PART'), ('be', 'VERB'), ('misunderstood', 'NOUN'), ('.', 'PUNCT')]\n"
     ]
    }
   ],
   "source": [
    "spacy_long_pos = nlp(long_sentence)\n",
    "spacy_short_pos = nlp(short_sentence)\n",
    "\n",
    "print(f\"\"\"Original Long Quote: \"{long_sentence}\" -- Robert Louis Stevenson\n",
    "NLTK POS tags:\n",
    "{long_pos_tags}\n",
    "spaCY POS tags:\n",
    "{ [(token.text, token.pos_) for token in spacy_long_pos]}\n",
    "\n",
    "Original Quote: \"{short_sentence}\" -- Ralph Waldo Emmerson\n",
    "NLTK POS tags:\n",
    "{short_pos_tags}\n",
    "spaCY POS tags:\n",
    "{ [(token.text, token.pos_) for token in spacy_short_pos]}\"\"\")"
   ]
  },
  {
   "cell_type": "markdown",
   "metadata": {},
   "source": [
    "There are slight documentation differences between how NLTK and spaCY record their parts of speech:\n",
    "* The word 'do' is marked as a VBP for verb/present tense/not 3rd person singular, while in spaCY its marked as AUX\n",
    "* For instance, the word \"to\" or contraction \"n't\" are marked as PART in spaCY but in NLTK \"to\" is set to \"TO\" and \"n't\" to \"RB\".\n",
    "\n",
    "However, as the spaCY library tends to lump VERBS, PART, AUX, etc. into a singular POS tag, it does seem that there are stored information within the Doc object that can we can glean more insight on the morphological features such as lemma and under morph attribute.\n",
    "\n",
    "---\n",
    "\n",
    "3.\tIn a news article from this week’s news, find a random sentence of at least 10 words.\n",
    "    * Looking at the Penn tag set, manually POS tag the sentence yourself.\n",
    "    * Now run the same sentences through both taggers that you implemented for questions 1 and 2. Did either of the taggers produce the same results as you had created manually?\n",
    "    * Explain any differences between the two taggers and your manual tagging as much as you can.\n"
   ]
  },
  {
   "cell_type": "code",
   "execution_count": 22,
   "metadata": {},
   "outputs": [
    {
     "name": "stdout",
     "output_type": "stream",
     "text": [
      "Original News Quote: \"Meanwhile, the number of available homes on the market has dropped nearly 40% in that same 12 month period.\"\n",
      "Manual POS tags:\n",
      "[('Meanwhile', 'RB'), (',', ','), ('the', 'DT'), ('number', 'NN'), ('of', 'IN'), ('available', 'JJ'), ('homes', 'NNS'), ('on', 'RP'), ('the', 'DT'), ('market', 'NN'), ('has', 'VBZ'), ('dropped', 'VBF'), ('nearly', 'RBR'), ('40', 'CD'), ('%', 'NN'), ('in', 'RP'), ('that', 'DT'), ('same', 'JJ'), ('12', 'CD'), ('month', 'NN'), ('period', 'NN')]\n",
      "NLTK POS tags:\n",
      "[('Meanwhile', 'RB'), (',', ','), ('the', 'DT'), ('number', 'NN'), ('of', 'IN'), ('available', 'JJ'), ('homes', 'NNS'), ('on', 'IN'), ('the', 'DT'), ('market', 'NN'), ('has', 'VBZ'), ('dropped', 'VBN'), ('nearly', 'RB'), ('40', 'CD'), ('%', 'NN'), ('in', 'IN'), ('that', 'DT'), ('same', 'JJ'), ('12', 'CD'), ('month', 'NN'), ('period', 'NN'), ('.', '.')]\n",
      "spaCY POS tags:\n",
      "[('Meanwhile', 'ADV'), (',', 'PUNCT'), ('the', 'DET'), ('number', 'NOUN'), ('of', 'ADP'), ('available', 'ADJ'), ('homes', 'NOUN'), ('on', 'ADP'), ('the', 'DET'), ('market', 'NOUN'), ('has', 'AUX'), ('dropped', 'VERB'), ('nearly', 'ADV'), ('40', 'NUM'), ('%', 'NOUN'), ('in', 'ADP'), ('that', 'DET'), ('same', 'ADJ'), ('12', 'NUM'), ('month', 'NOUN'), ('period', 'NOUN'), ('.', 'PUNCT')]\n"
     ]
    }
   ],
   "source": [
    "news_sentence = \"Meanwhile, the number of available homes on the market has dropped nearly 40% in that same 12 month period.\"\n",
    "\n",
    "manual_tagging = [('Meanwhile', 'RB'), (',', ','), ('the', 'DT'), ('number', 'NN'), ('of', 'IN'), ('available', 'JJ'), ('homes', 'NNS'), ('on', 'RP'),\n",
    "                  ('the', 'DT'), ('market', 'NN'), ('has', 'VBZ'), ('dropped', 'VBF'), ('nearly', 'RBR'), ('40', 'CD'), ('%', 'NN'), ('in', 'RP'),\n",
    "                  ('that', 'DT'), ('same', 'JJ'), ('12', 'CD'), ('month', 'NN'), ('period', 'NN')]\n",
    "\n",
    "# NLTK POS tags from tokenized sentence\n",
    "nltk_tags = nltk.pos_tag(nltk.word_tokenize(news_sentence))\n",
    "\n",
    "# SpaCY parsing and tagging to SpaCY's Doc object\n",
    "nlp_news_doc = nlp(news_sentence)\n",
    "# Extracting only text and pos_ for analysis\n",
    "spacy_news_txt_pos = [(token.text, token.pos_) for token in nlp_news_doc]\n",
    "\n",
    "print(f\"\"\"Original News Quote: \"{news_sentence}\"\n",
    "Manual POS tags:\n",
    "{manual_tagging}\n",
    "NLTK POS tags:\n",
    "{nltk_tags}\n",
    "spaCY POS tags:\n",
    "{spacy_news_txt_pos}\"\"\")\n"
   ]
  },
  {
   "cell_type": "markdown",
   "metadata": {},
   "source": [
    "Between NLTK and my manual tagging, it seems that there were some misclassifications on my part when it came to classifying tenses of verbs and adverbs\n",
    "\n",
    "Between spaCY and my manual tagging, since spaCY UPOS which is a Universal POS tags that are meant to distinguish lexical and grammatical properties."
   ]
  }
 ],
 "metadata": {
  "interpreter": {
   "hash": "252e9a3d70f6afcbbc5476fbf134266e4b61985192d61eccc1fa8f9246d29b88"
  },
  "kernelspec": {
   "display_name": "Python 3.8.3 ('base')",
   "language": "python",
   "name": "python3"
  },
  "language_info": {
   "codemirror_mode": {
    "name": "ipython",
    "version": 3
   },
   "file_extension": ".py",
   "mimetype": "text/x-python",
   "name": "python",
   "nbconvert_exporter": "python",
   "pygments_lexer": "ipython3",
   "version": "3.8.3"
  },
  "orig_nbformat": 4
 },
 "nbformat": 4,
 "nbformat_minor": 2
}