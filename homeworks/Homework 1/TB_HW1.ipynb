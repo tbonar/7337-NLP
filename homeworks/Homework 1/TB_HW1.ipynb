{
 "cells": [
  {
   "cell_type": "markdown",
   "metadata": {
    "pycharm": {
     "name": "#%% md\n"
    }
   },
   "source": [
    "# Homework 1\n",
    "\n",
    "## MSDS-7337 - Spring '22\n",
    "## Taylor Bonar\n",
    "\n",
    "***\n",
    "\n",
    "**Question 1:** Install Python (if you don’t have it already) and install NLTK."
   ]
  },
  {
   "cell_type": "code",
   "execution_count": 5,
   "metadata": {
    "pycharm": {
     "name": "#%%\n"
    }
   },
   "outputs": [
    {
     "name": "stdout",
     "output_type": "stream",
     "text": [
      "Python Version: 3.8.12\n",
      "NLTK v.3.6.5 & Numpy v.1.21.2\n"
     ]
    }
   ],
   "source": [
    "import nltk, numpy\n",
    "from platform import python_version\n",
    "\n",
    "print(f\"Python Version: {python_version()}\")\n",
    "print(f\"NLTK v.{nltk.__version__} & Numpy v.{numpy.__version__}\")"
   ]
  },
  {
   "cell_type": "markdown",
   "metadata": {
    "pycharm": {
     "name": "#%% md\n"
    }
   },
   "source": [
    "**Question 2:** Follow the instructions in chapter 1 of Bird-Klein for implementing a “lexical diversity” scoring routine."
   ]
  },
  {
   "cell_type": "code",
   "execution_count": 7,
   "metadata": {
    "pycharm": {
     "name": "#%%\n"
    }
   },
   "outputs": [
    {
     "name": "stdout",
     "output_type": "stream",
     "text": [
      "*** Introductory Examples for the NLTK Book ***\n",
      "Loading text1, ..., text9 and sent1, ..., sent9\n",
      "Type the name of the text or sentence to view it.\n",
      "Type: 'texts()' or 'sents()' to list the materials.\n",
      "text1: Moby Dick by Herman Melville 1851\n",
      "text2: Sense and Sensibility by Jane Austen 1811\n",
      "text3: The Book of Genesis\n",
      "text4: Inaugural Address Corpus\n",
      "text5: Chat Corpus\n",
      "text6: Monty Python and the Holy Grail\n",
      "text7: Wall Street Journal\n",
      "text8: Personals Corpus\n",
      "text9: The Man Who Was Thursday by G . K . Chesterton 1908\n"
     ]
    },
    {
     "data": {
      "text/plain": [
       "0.06230453042623537"
      ]
     },
     "execution_count": 7,
     "metadata": {},
     "output_type": "execute_result"
    }
   ],
   "source": [
    "def lexical_diversity(text):\n",
    "    \"\"\"\n",
    "    Returns \"lexical richness\" of an NLTK object\n",
    "    :param text: NLTK text object\n",
    "    :return: percentage of unique words to the total number of words\n",
    "    \"\"\"\n",
    "    return len(set(text)) / len(text)\n",
    "\n",
    "# Chapter 1.4 example, output should be 0.06230453042623537\n",
    "from nltk.book import text3\n",
    "\n",
    "lexical_diversity(text3)"
   ]
  },
  {
   "cell_type": "markdown",
   "metadata": {
    "pycharm": {
     "name": "#%% md\n"
    }
   },
   "source": [
    "**Question 3:** Go to http://www.gutenberg.org/ebooks/bookshelf/215  and select texts of different grade levels (e.g., fourth reader, fifth reader et al)\n",
    "Report the lexical diversity score of each. Explain whether the result was surprising."
   ]
  },
  {
   "cell_type": "code",
   "execution_count": 11,
   "metadata": {
    "pycharm": {
     "name": "#%%\n"
    }
   },
   "outputs": [
    {
     "name": "stdout",
     "output_type": "stream",
     "text": [
      "Lexical Diversity of MCGUFFEY'S SECOND ECLECTIC READER is 0.1588342153068478\n",
      "Lexical Diversity of MCGUFFEY'S THIRD ECLECTIC READER is 0.12404916695180691\n",
      "Lexical Diversity of MCGUFFEY'S FOURTH ECLECTIC READER is 0.12347441296124474\n"
     ]
    }
   ],
   "source": [
    "from nltk import word_tokenize\n",
    "from urllib import request\n",
    "\n",
    "def retrieve_nltk_obj_for_raw_text(url, encoding_type=\"utf-8\"):\n",
    "    \"\"\"Returns nltk.Text object for a given url to raw text\n",
    "    \n",
    "    Keyword arguments:\n",
    "    :param url: raw text to download and tokenize into nltk.Text object\n",
    "    :param encoding_type: (defaults to UTF-8) encoding type of the raw text\n",
    "    :return: nltk.text.Text\n",
    "    \"\"\"\n",
    "    # Open request via URL and decode\n",
    "    raw_text = request.urlopen(url).read().decode(encoding_type)\n",
    "    \n",
    "    # Tokenize and return NLTK object\n",
    "    return nltk.Text(word_tokenize(raw_text))\n",
    "\n",
    "url1 = \"https://www.gutenberg.org/cache/epub/14880/pg14880.txt\"\n",
    "url2 = \"https://www.gutenberg.org/cache/epub/14668/pg14668.txt\"\n",
    "url3 = \"https://www.gutenberg.org/cache/epub/14766/pg14766.txt\"\n",
    "\n",
    "# Opens a request via url\n",
    "response1 = request.urlopen(url1)\n",
    "response2 = request.urlopen(url2)\n",
    "response3 = request.urlopen(url3)\n",
    "\n",
    "# Decodes request's body as UTF-8 encoding\n",
    "raw_txt1 = response1.read().decode('utf8')\n",
    "raw_txt2 = response2.read().decode('utf8')\n",
    "raw_txt3 = response3.read().decode('utf8')\n",
    "\n",
    "# Tokenization of raw text -- breaks up string into words & punctuation\n",
    "token1 = word_tokenize(raw_txt1)\n",
    "token2 = word_tokenize(raw_txt2)\n",
    "token3 = word_tokenize(raw_txt3)\n",
    "\n",
    "# Create tokenized version of text via NLTK\n",
    "txt1 = nltk.Text(token1)\n",
    "txt2 = nltk.Text(token2)\n",
    "txt3 = nltk.Text(token3)\n",
    "\n",
    "print(f\"Lexical Diversity of MCGUFFEY'S SECOND ECLECTIC READER is {lexical_diversity(txt2)}\")\n",
    "print(f\"Lexical Diversity of MCGUFFEY'S THIRD ECLECTIC READER is {lexical_diversity(txt3)}\")\n",
    "print(f\"Lexical Diversity of MCGUFFEY'S FOURTH ECLECTIC READER is {lexical_diversity(txt1)}\")"
   ]
  },
  {
   "cell_type": "markdown",
   "metadata": {
    "pycharm": {
     "name": "#%% md\n"
    }
   },
   "source": [
    "I am surprised that after the second level, the diversity decreased and appears to be close to each other for the third and fourth reader. I would think that as you increase the eclectic reader volumes, the diversity should increase.\n",
    "\n",
    "**Question 4:** Also compare the vocabulary size of the same three texts. Explain whether the result was surprising."
   ]
  },
  {
   "cell_type": "code",
   "execution_count": 10,
   "metadata": {
    "pycharm": {
     "name": "#%%\n"
    }
   },
   "outputs": [
    {
     "name": "stdout",
     "output_type": "stream",
     "text": [
      "Vocabulary Size of MCGUFFEY'S SECOND ECLECTIC READER is 4022\n",
      "Vocabulary Size of MCGUFFEY'S THIRD ECLECTIC READER is 4713\n",
      "Vocabulary Size of MCGUFFEY'S FOURTH ECLECTIC READER is 10380\n"
     ]
    }
   ],
   "source": [
    "print(f\"Vocabulary Size of MCGUFFEY'S SECOND ECLECTIC READER is {len(set(txt2))}\")\n",
    "print(f\"Vocabulary Size of MCGUFFEY'S THIRD ECLECTIC READER is {len(set(txt3))}\")\n",
    "print(f\"Vocabulary Size of MCGUFFEY'S FOURTH ECLECTIC READER is {len(set(txt1))}\")"
   ]
  },
  {
   "cell_type": "markdown",
   "metadata": {
    "pycharm": {
     "name": "#%% md\n"
    }
   },
   "source": [
    "Again, I am surprised as it now seems, for vocabulary size, that the second and third reader are closer in size than the fourth. However, I can see a rapid increase of vocabulary size may be needed as elementary school students progress.\n",
    "\n",
    "**Question 5:** Write a paragraph arguing whether vocabulary size and lexical diversity in combination could be a better measure of text difficulty (or reading level) than either measure is by itself.\n",
    "\n",
    "Vocabulary size and lexical diversity in combination are a better measurement of text difficulty and reading level than by themselves. When separated, they only provide a reader insight into only part of the picture for a text. For instance, when examining lexical diversity, we are shown a view on ‘textual richness’, the ratio of unique vocabulary to the total number of words, however, this metric alone does not work well when considering larger texts as we tend to repeat functional words such as pronouns, articles, and conjunction words. However, if we add in vocabulary size from our previous two questions, we can see that McGuffey’s Fourth Eclectic Reader contains a considerable increase in vocabulary (twice, in fact) when comparing to its previous volume. This difference indicates to an unfamiliar reader, such as a younger or language student, that although the lexical diversity is similar between the Third and Fourth volumes, the Fourth volume increases the vocabulary size by two-fold while maintaining a similar overall complexity.\n"
   ]
  }
 ],
 "metadata": {
  "kernelspec": {
   "display_name": "Python 3",
   "language": "python",
   "name": "python3"
  },
  "language_info": {
   "codemirror_mode": {
    "name": "ipython",
    "version": 3
   },
   "file_extension": ".py",
   "mimetype": "text/x-python",
   "name": "python",
   "nbconvert_exporter": "python",
   "pygments_lexer": "ipython3",
   "version": "3.8.3"
  }
 },
 "nbformat": 4,
 "nbformat_minor": 4
}
