{
 "cells": [
  {
   "cell_type": "markdown",
   "metadata": {},
   "source": [
    "# HW3\n",
    "## MSDS-7337\n",
    "## Author: Taylor Bonar\n",
    "---\n",
    "1.\tCompare your given name with your nickname (if you don’t have a nickname, invent one for this assignment) by answering the following questions (Show your work for both calculations):  \n",
    "- What is the edit distance between your nickname and your given name?  \n",
    "    "
   ]
  },
  {
   "cell_type": "code",
   "execution_count": 13,
   "metadata": {
    "pycharm": {
     "name": "#%%\n"
    }
   },
   "outputs": [
    {
     "name": "stdout",
     "output_type": "stream",
     "text": [
      "Python Version: 3.8.12\n",
      "NLTK v.3.6.5\n"
     ]
    }
   ],
   "source": [
    "from platform import python_version\n",
    "import nltk\n",
    "print(f\"Python Version: {python_version()}\")\n",
    "print(f\"NLTK v.{nltk.__version__}\")"
   ]
  },
  {
   "cell_type": "code",
   "execution_count": 3,
   "metadata": {},
   "outputs": [
    {
     "data": {
      "text/plain": [
       "'Edit distance between given name of Taylor and nickname, TayTay, is 3'"
      ]
     },
     "execution_count": 3,
     "metadata": {},
     "output_type": "execute_result"
    }
   ],
   "source": [
    "given_name = \"Taylor\"\n",
    "nickname = \"TayTay\"\n",
    "f\"Edit distance between given name of {given_name} and nickname, {nickname}, is {nltk.edit_distance(given_name, nickname)}\""
   ]
  },
  {
   "cell_type": "markdown",
   "metadata": {},
   "source": [
    "* What is the percentage string match between your nickname and your given name?"
   ]
  },
  {
   "cell_type": "code",
   "execution_count": 8,
   "metadata": {},
   "outputs": [],
   "source": [
    "from difflib import SequenceMatcher"
   ]
  },
  {
   "cell_type": "code",
   "execution_count": 11,
   "metadata": {
    "pycharm": {
     "name": "#%%\n"
    }
   },
   "outputs": [
    {
     "data": {
      "text/plain": [
       "'The percentage string match between my nickname and given name is 50.0%'"
      ]
     },
     "execution_count": 11,
     "metadata": {},
     "output_type": "execute_result"
    }
   ],
   "source": [
    "f\"The percentage string match between my nickname and given name is {SequenceMatcher(None, nickname, given_name).ratio() * 100}%\""
   ]
  },
  {
   "cell_type": "markdown",
   "metadata": {},
   "source": [
    "2.\tFind a friend (or family member or classmate) who you know has read a certain book. Without your friend knowing, copy the first two sentences of that book. Now rewrite the words from those sentences, excluding stop words. Now tell your friend to guess which book the words are from by reading them just that list of words. Did you friend correctly guess the book on the first try? What did he or she guess? Explain why you think you friend either was or was not able to guess the book from hearing the list of words. "
   ]
  },
  {
   "cell_type": "code",
   "execution_count": 27,
   "metadata": {
    "pycharm": {
     "name": "#%%\n"
    }
   },
   "outputs": [],
   "source": [
    "from nltk.corpus import stopwords\n",
    "from nltk.tokenize import word_tokenize"
   ]
  },
  {
   "cell_type": "code",
   "execution_count": 39,
   "metadata": {},
   "outputs": [
    {
     "name": "stdout",
     "output_type": "stream",
     "text": [
      "Neuromancer by William Gibson\n",
      "\n",
      "Original Text: The sky above the port was the color of television, tuned to a dead channel. \"It's not like I'm using,\" Case heard someone say, as he shouldered his way through the crowd around the door of the Chat.\n",
      "\n",
      "Tokens w/o Stopwords: The sky port color television , tuned dead channel . `` It 's like I 'm using , '' Case heard someone say , shouldered way crowd around door Chat .\n",
      "\n"
     ]
    }
   ],
   "source": [
    "neuromancer_str = 'The sky above the port was the color of television, tuned to a dead channel. \"It\\'s not like I\\'m using,\" Case heard someone say, as he shouldered his way through the crowd around the door of the Chat.'\n",
    "\n",
    "neuromancer_tokens = word_tokenize(neuromancer_str)\n",
    "neuromancer_nsw = [token for token in neuromancer_tokens if token not in stopwords.words(\"english\")]\n",
    "\n",
    "print(f\"\"\"Neuromancer by William Gibson\n",
    "\n",
    "Original Text: {neuromancer_str}\n",
    "\n",
    "Tokens w/o Stopwords: {\" \".join(neuromancer_nsw)}\n",
    "\"\"\")"
   ]
  },
  {
   "cell_type": "markdown",
   "metadata": {
    "pycharm": {
     "name": "#%% md\n"
    }
   },
   "source": [
    "I originally gathered this incerpt from a friend, but as I asked him recently, he was able to recognize it. However, another book lover and sci-fi reader was able to recognize it despite not having any context to what I was doing or what I selected.\n",
    "\n",
    "I believe they were able to recognize this book's first two sentences that was tokenized and had stopwords removed as its one of the earliest and well-known cyberpunk novels."
   ]
  },
  {
   "cell_type": "markdown",
   "metadata": {},
   "source": [
    "3.\tRun one of the stemmers available in Python. Run the same two sentences from question 2 above through the stemmer and show the results. How many of the outputted stems are valid morphological roots of the corresponding words? Express this answer as a percentage."
   ]
  },
  {
   "cell_type": "code",
   "execution_count": 49,
   "metadata": {},
   "outputs": [],
   "source": [
    "from nltk.stem.wordnet import *\n",
    "from nltk.corpus import wordnet"
   ]
  },
  {
   "cell_type": "code",
   "execution_count": 53,
   "metadata": {
    "pycharm": {
     "name": "#%%\n"
    }
   },
   "outputs": [
    {
     "name": "stdout",
     "output_type": "stream",
     "text": [
      " Stemmed words from original excerpt with 73.68421052631578% valid roots:\n",
      " ['The', 'sky', 'above', 'the', 'port', 'wa', 'the', 'color', 'of', 'television', 'tuned', 'to', 'a', 'dead', 'channel', 'It', 'not', 'like', 'I', 'using', 'Case', 'heard', 'someone', 'say', 'a', 'he', 'shouldered', 'his', 'way', 'through', 'the', 'crowd', 'around', 'the', 'door', 'of', 'the', 'Chat']\n",
      "\n",
      "Stemmed words original excerpt with tokenized and removed stop words with 100.0% valid roots:\n",
      "['The', 'sky', 'port', 'color', 'television', 'tuned', 'dead', 'channel', 'It', 'like', 'I', 'using', 'Case', 'heard', 'someone', 'say', 'shouldered', 'way', 'crowd', 'around', 'door', 'Chat']\n",
      "\n",
      "\n"
     ]
    }
   ],
   "source": [
    "wnlemmatizer = WordNetLemmatizer()\n",
    "\n",
    "neuromancer_str_stems = [wnlemmatizer.lemmatize(token) for token in neuromancer_tokens if token.isalpha()]\n",
    "neuromancer_nsw_stems = [wnlemmatizer.lemmatize(token) for token in neuromancer_nsw if token.isalpha()]\n",
    "\n",
    "neuromancer_str_valid_roots = [stem for stem in neuromancer_str_stems if wordnet.synsets(stem)]\n",
    "neuromancer_nsw_valid_roots = [stem for stem in neuromancer_nsw_stems if wordnet.synsets(stem)]\n",
    "\n",
    "print(f\"\"\" Stemmed words from original excerpt with {len(neuromancer_str_valid_roots) / len(neuromancer_str_stems) * 100}% valid roots:\n",
    " {neuromancer_str_stems}\n",
    "\n",
    "Stemmed words original excerpt with tokenized and removed stop words with {len(neuromancer_nsw_valid_roots) / len(neuromancer_nsw_valid_roots) * 100}% valid roots:\n",
    "{neuromancer_nsw_stems}\n",
    "\n",
    "\"\"\")"
   ]
  }
 ],
 "metadata": {
  "kernelspec": {
   "display_name": "Python 3 (ipykernel)",
   "language": "python",
   "name": "python3"
  },
  "language_info": {
   "codemirror_mode": {
    "name": "ipython",
    "version": 3
   },
   "file_extension": ".py",
   "mimetype": "text/x-python",
   "name": "python",
   "nbconvert_exporter": "python",
   "pygments_lexer": "ipython3",
   "version": "3.8.12"
  }
 },
 "nbformat": 4,
 "nbformat_minor": 4
}