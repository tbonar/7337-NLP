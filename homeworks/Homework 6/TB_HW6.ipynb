{
 "cells": [
  {
   "cell_type": "markdown",
   "metadata": {},
   "source": [
    "# HW6\n",
    "\n",
    "## MSDS-7337\n",
    "## Author: Taylor Bonar\n",
    "---\n",
    "1.\tEvaluate text similarity of Amazon book search results by doing the following:\n",
    "    * Do a book search on Amazon via the search box. Manually copy the full book title (including subtitle) of each of the top 24 books listed in the first two pages of search results. \n",
    "    * In Python, run one of the text-similarity measures covered in this course, e.g., cosine similarity. Compare each of the book titles, pairwise, to every other one. \n",
    "    * Which two titles are the most similar to each other? Which are the most dissimilar? Where do they rank, among the first 24 results?"
   ]
  },
  {
   "cell_type": "code",
   "execution_count": 1,
   "metadata": {},
   "outputs": [],
   "source": [
    "corpus_book_titles = [\n",
    "    'The Silent Patient',\n",
    "    'The Silent Patient: A True Story',\n",
    "    'The Maidens',\n",
    "    'The Push: A Novel',\n",
    "    'The Patient',\n",
    "    'Verity',\n",
    "    'The Searcher: A Novel',\n",
    "    'Where the Crawdads Sing',\n",
    "    'Then She Was Gone: A Novel',\n",
    "    'The Couple Next Door: A Novel',\n",
    "    'The Black Book (A Billy Harney Thriller, 1)',\n",
    "    'The Midnight Library: A Novel',\n",
    "    'The Guardians: A Novel',\n",
    "    'American Dirt (Oprah\\'s Book Club): A Novel',\n",
    "    'The Seven Husbands of Evelyn Hugo: A Novel',\n",
    "    'AGATHA CHRISTIE Premium Collection',\n",
    "    'The Last Thing He Told Me: A Novel',\n",
    "    'Tattooist Of Auschwitz',\n",
    "    'Mind Games',\n",
    "    'The Last Mrs. Parrish: A Novel',\n",
    "    'Family Money',\n",
    "    'Project Hail Mary: A Novel',\n",
    "    'All the Light We Cannot See: A Novel',\n",
    "    'The Night She Disappeared: A Novel'\n",
    "]"
   ]
  },
  {
   "cell_type": "markdown",
   "metadata": {},
   "source": [
    "References\n",
    "* Medium Article: https://medium.com/geekculture/different-ways-to-calculate-cosine-similarity-in-python-ae5bb28c372c\n",
    "* StackOverflow: https://stackoverflow.com/questions/54681776/map-the-most-similar-cosine-ranking-document-back-to-each-respective-document-in\n",
    "* Sklearn documentation"
   ]
  },
  {
   "cell_type": "code",
   "execution_count": 24,
   "metadata": {},
   "outputs": [],
   "source": [
    "from sklearn.feature_extraction.text import TfidfVectorizer\n",
    "from sklearn.metrics.pairwise import linear_kernel\n",
    "import pandas as pd"
   ]
  },
  {
   "cell_type": "code",
   "execution_count": 36,
   "metadata": {},
   "outputs": [
    {
     "data": {
      "text/html": [
       "<div>\n",
       "<style scoped>\n",
       "    .dataframe tbody tr th:only-of-type {\n",
       "        vertical-align: middle;\n",
       "    }\n",
       "\n",
       "    .dataframe tbody tr th {\n",
       "        vertical-align: top;\n",
       "    }\n",
       "\n",
       "    .dataframe thead th {\n",
       "        text-align: right;\n",
       "    }\n",
       "</style>\n",
       "<table border=\"1\" class=\"dataframe\">\n",
       "  <thead>\n",
       "    <tr style=\"text-align: right;\">\n",
       "      <th></th>\n",
       "      <th>agatha</th>\n",
       "      <th>all</th>\n",
       "      <th>american</th>\n",
       "      <th>auschwitz</th>\n",
       "      <th>billy</th>\n",
       "      <th>black</th>\n",
       "      <th>book</th>\n",
       "      <th>cannot</th>\n",
       "      <th>christie</th>\n",
       "      <th>club</th>\n",
       "      <th>...</th>\n",
       "      <th>the</th>\n",
       "      <th>then</th>\n",
       "      <th>thing</th>\n",
       "      <th>thriller</th>\n",
       "      <th>told</th>\n",
       "      <th>true</th>\n",
       "      <th>verity</th>\n",
       "      <th>was</th>\n",
       "      <th>we</th>\n",
       "      <th>where</th>\n",
       "    </tr>\n",
       "  </thead>\n",
       "  <tbody>\n",
       "    <tr>\n",
       "      <th>The Silent Patient</th>\n",
       "      <td>0.0</td>\n",
       "      <td>0.0</td>\n",
       "      <td>0.0</td>\n",
       "      <td>0.0</td>\n",
       "      <td>0.0</td>\n",
       "      <td>0.0</td>\n",
       "      <td>0.0</td>\n",
       "      <td>0.0</td>\n",
       "      <td>0.0</td>\n",
       "      <td>0.0</td>\n",
       "      <td>...</td>\n",
       "      <td>0.312355</td>\n",
       "      <td>0.0</td>\n",
       "      <td>0.0</td>\n",
       "      <td>0.0</td>\n",
       "      <td>0.0</td>\n",
       "      <td>0.000000</td>\n",
       "      <td>0.0</td>\n",
       "      <td>0.0</td>\n",
       "      <td>0.0</td>\n",
       "      <td>0.0</td>\n",
       "    </tr>\n",
       "    <tr>\n",
       "      <th>The Silent Patient: A True Story</th>\n",
       "      <td>0.0</td>\n",
       "      <td>0.0</td>\n",
       "      <td>0.0</td>\n",
       "      <td>0.0</td>\n",
       "      <td>0.0</td>\n",
       "      <td>0.0</td>\n",
       "      <td>0.0</td>\n",
       "      <td>0.0</td>\n",
       "      <td>0.0</td>\n",
       "      <td>0.0</td>\n",
       "      <td>...</td>\n",
       "      <td>0.207624</td>\n",
       "      <td>0.0</td>\n",
       "      <td>0.0</td>\n",
       "      <td>0.0</td>\n",
       "      <td>0.0</td>\n",
       "      <td>0.528285</td>\n",
       "      <td>0.0</td>\n",
       "      <td>0.0</td>\n",
       "      <td>0.0</td>\n",
       "      <td>0.0</td>\n",
       "    </tr>\n",
       "    <tr>\n",
       "      <th>The Maidens</th>\n",
       "      <td>0.0</td>\n",
       "      <td>0.0</td>\n",
       "      <td>0.0</td>\n",
       "      <td>0.0</td>\n",
       "      <td>0.0</td>\n",
       "      <td>0.0</td>\n",
       "      <td>0.0</td>\n",
       "      <td>0.0</td>\n",
       "      <td>0.0</td>\n",
       "      <td>0.0</td>\n",
       "      <td>...</td>\n",
       "      <td>0.365779</td>\n",
       "      <td>0.0</td>\n",
       "      <td>0.0</td>\n",
       "      <td>0.0</td>\n",
       "      <td>0.0</td>\n",
       "      <td>0.000000</td>\n",
       "      <td>0.0</td>\n",
       "      <td>0.0</td>\n",
       "      <td>0.0</td>\n",
       "      <td>0.0</td>\n",
       "    </tr>\n",
       "    <tr>\n",
       "      <th>The Push: A Novel</th>\n",
       "      <td>0.0</td>\n",
       "      <td>0.0</td>\n",
       "      <td>0.0</td>\n",
       "      <td>0.0</td>\n",
       "      <td>0.0</td>\n",
       "      <td>0.0</td>\n",
       "      <td>0.0</td>\n",
       "      <td>0.0</td>\n",
       "      <td>0.0</td>\n",
       "      <td>0.0</td>\n",
       "      <td>...</td>\n",
       "      <td>0.337599</td>\n",
       "      <td>0.0</td>\n",
       "      <td>0.0</td>\n",
       "      <td>0.0</td>\n",
       "      <td>0.0</td>\n",
       "      <td>0.000000</td>\n",
       "      <td>0.0</td>\n",
       "      <td>0.0</td>\n",
       "      <td>0.0</td>\n",
       "      <td>0.0</td>\n",
       "    </tr>\n",
       "    <tr>\n",
       "      <th>The Patient</th>\n",
       "      <td>0.0</td>\n",
       "      <td>0.0</td>\n",
       "      <td>0.0</td>\n",
       "      <td>0.0</td>\n",
       "      <td>0.0</td>\n",
       "      <td>0.0</td>\n",
       "      <td>0.0</td>\n",
       "      <td>0.0</td>\n",
       "      <td>0.0</td>\n",
       "      <td>0.0</td>\n",
       "      <td>...</td>\n",
       "      <td>0.439426</td>\n",
       "      <td>0.0</td>\n",
       "      <td>0.0</td>\n",
       "      <td>0.0</td>\n",
       "      <td>0.0</td>\n",
       "      <td>0.000000</td>\n",
       "      <td>0.0</td>\n",
       "      <td>0.0</td>\n",
       "      <td>0.0</td>\n",
       "      <td>0.0</td>\n",
       "    </tr>\n",
       "  </tbody>\n",
       "</table>\n",
       "<p>5 rows × 64 columns</p>\n",
       "</div>"
      ],
      "text/plain": [
       "                                  agatha  all  american  auschwitz  billy  \\\n",
       "The Silent Patient                   0.0  0.0       0.0        0.0    0.0   \n",
       "The Silent Patient: A True Story     0.0  0.0       0.0        0.0    0.0   \n",
       "The Maidens                          0.0  0.0       0.0        0.0    0.0   \n",
       "The Push: A Novel                    0.0  0.0       0.0        0.0    0.0   \n",
       "The Patient                          0.0  0.0       0.0        0.0    0.0   \n",
       "\n",
       "                                  black  book  cannot  christie  club  ...  \\\n",
       "The Silent Patient                  0.0   0.0     0.0       0.0   0.0  ...   \n",
       "The Silent Patient: A True Story    0.0   0.0     0.0       0.0   0.0  ...   \n",
       "The Maidens                         0.0   0.0     0.0       0.0   0.0  ...   \n",
       "The Push: A Novel                   0.0   0.0     0.0       0.0   0.0  ...   \n",
       "The Patient                         0.0   0.0     0.0       0.0   0.0  ...   \n",
       "\n",
       "                                       the  then  thing  thriller  told  \\\n",
       "The Silent Patient                0.312355   0.0    0.0       0.0   0.0   \n",
       "The Silent Patient: A True Story  0.207624   0.0    0.0       0.0   0.0   \n",
       "The Maidens                       0.365779   0.0    0.0       0.0   0.0   \n",
       "The Push: A Novel                 0.337599   0.0    0.0       0.0   0.0   \n",
       "The Patient                       0.439426   0.0    0.0       0.0   0.0   \n",
       "\n",
       "                                      true  verity  was   we  where  \n",
       "The Silent Patient                0.000000     0.0  0.0  0.0    0.0  \n",
       "The Silent Patient: A True Story  0.528285     0.0  0.0  0.0    0.0  \n",
       "The Maidens                       0.000000     0.0  0.0  0.0    0.0  \n",
       "The Push: A Novel                 0.000000     0.0  0.0  0.0    0.0  \n",
       "The Patient                       0.000000     0.0  0.0  0.0    0.0  \n",
       "\n",
       "[5 rows x 64 columns]"
      ]
     },
     "execution_count": 36,
     "metadata": {},
     "output_type": "execute_result"
    }
   ],
   "source": [
    "vectorizer = TfidfVectorizer()\n",
    "\n",
    "# Use Tfid from SKLearn on our book titles from Amazon so we get a sparse matrix of n_samples and n_features via tf-idf weighted document-term matrix\n",
    "tfidf_matrix = vectorizer.fit_transform(corpus_book_titles)\n",
    "\n",
    "# Translating to pandas dataframe to show calculations of vocabulary and idf\n",
    "document_term_matrix_df = pd.DataFrame(tfidf_matrix.toarray(), columns=vectorizer.get_feature_names_out(), index=corpus_book_titles)\n",
    "\n",
    "document_term_matrix_df.head()"
   ]
  },
  {
   "cell_type": "code",
   "execution_count": 39,
   "metadata": {},
   "outputs": [
    {
     "data": {
      "text/plain": [
       "<1x64 sparse matrix of type '<class 'numpy.float64'>'\n",
       "\twith 3 stored elements in Compressed Sparse Row format>"
      ]
     },
     "execution_count": 39,
     "metadata": {},
     "output_type": "execute_result"
    }
   ],
   "source": [
    "tfidf_matrix[0]"
   ]
  },
  {
   "cell_type": "code",
   "execution_count": 47,
   "metadata": {},
   "outputs": [
    {
     "name": "stdout",
     "output_type": "stream",
     "text": [
      "Most Similar Book Titles:\n",
      "Book Title 1               The Silent Patient\n",
      "Most Similar Book Title           The Patient\n",
      "SimilarityPercentage                 0.710825\n",
      "Name: 0, dtype: object\n",
      "      \n",
      "Most Dissimilar Book Titles:\n",
      "Book Title 1                           Verity\n",
      "Most Similar Book Title    The Silent Patient\n",
      "SimilarityPercentage                        0\n",
      "Name: 5, dtype: object\n",
      "\n"
     ]
    }
   ],
   "source": [
    "\n",
    "# DF to hold similarities so we can get idxmax() later\n",
    "cos_df = pd.DataFrame(columns=[\"Book Title 1\", \"Most Similar Book Title\", \"SimilarityPercentage\"])\n",
    "\n",
    "for idx in range(len(corpus_book_titles)):\n",
    "    # tf-idf in sklearn produces normalized vectors :. cosine_similarity is equivalent to linear_kernel, but slower. Let's use linear_kernal, b/c gotta go fast\n",
    "    # compare row 1 and row 2 and calculate cosine similarity\n",
    "    cosine_similarities = linear_kernel(tfidf_matrix[idx], tfidf_matrix).flatten()\n",
    "    # make pairs of (index, similarity)\n",
    "    cosine_similarities = list(enumerate(cosine_similarities))\n",
    "    # delete the cosine similarity with itself\n",
    "    cosine_similarities.pop(idx)\n",
    "    # get the tuple with max similarity\n",
    "    most_similar, similarity = max(cosine_similarities, key=lambda t:t[1])\n",
    "    cos_df.loc[len(cos_df)] = [corpus_book_titles[idx], corpus_book_titles[most_similar], similarity]\n",
    "    \n",
    "most_sim = cos_df.iloc[cos_df.SimilarityPercentage.idxmax()]\n",
    "least_sim = cos_df.iloc[cos_df.SimilarityPercentage.idxmin()]\n",
    "\n",
    "print(f\"\"\"Most Similar Book Titles:\n",
    "{most_sim}\n",
    "      \n",
    "Most Dissimilar Book Titles:\n",
    "{least_sim}\n",
    "\"\"\")"
   ]
  },
  {
   "cell_type": "markdown",
   "metadata": {},
   "source": [
    "The most similar book titles shown on Amazon's search \"The Silent Patient\" are the:\n",
    "* The Silent Patient\n",
    "* The Patient\n",
    "\n",
    "These were the first two books shown on the list.\n",
    "\n",
    "While there is a tie for the least similar books:\n",
    "* The Silent Patient and Verity (Listing 6)\n",
    "* AGATHA CHRISTIE Premium Collection (Listing 16) and The Silent Patient\n",
    "* Mind Games (Listing 19) and The Silent Patient\n",
    "* Family Money (Listing 21) and The Silent Patient\n",
    "\n",
    "This is no surprise as the titles contain very different words."
   ]
  },
  {
   "cell_type": "markdown",
   "metadata": {},
   "source": [
    "\n",
    "2.\tNow evaluate using a major search engine.\n",
    "    * Enter one of the book titles from question 1a into Google, Bing, or Yahoo!. Copy the capsule of the first organic result and the 20th organic result. Take web results only (i.e., not video results), and skip sponsored results. \n",
    "    * Run the same text similarity calculation that you used for question 1b on each of these capsules in comparison to the original query (book title). \n",
    "    * Which one has the highest similarity measure? \n",
    "\n"
   ]
  },
  {
   "cell_type": "code",
   "execution_count": 49,
   "metadata": {},
   "outputs": [
    {
     "data": {
      "image/png": "[encoded data removed]",
      "text/plain": [
       "<IPython.core.display.Image object>"
      ]
     },
     "metadata": {},
     "output_type": "display_data"
    },
    {
     "data": {
      "image/png": "[encoded data removed]",
      "text/plain": [
       "<IPython.core.display.Image object>"
      ]
     },
     "metadata": {},
     "output_type": "display_data"
    }
   ],
   "source": [
    "from IPython.display import Image, display\n",
    "\n",
    "listOfImageNames = ['./Google_Result1.png',\n",
    "                    './Google_Result20.png']\n",
    "\n",
    "for imageName in listOfImageNames:\n",
    "    display(Image(filename=imageName))"
   ]
  },
  {
   "cell_type": "code",
   "execution_count": 50,
   "metadata": {},
   "outputs": [
    {
     "data": {
      "text/plain": [
       "[(0, 0.07397129483465995), (1, 1.0)]"
      ]
     },
     "execution_count": 50,
     "metadata": {},
     "output_type": "execute_result"
    }
   ],
   "source": [
    "vectorizer = TfidfVectorizer()\n",
    "\n",
    "documents = [\"Verity Paperback - Hoover, Collen - Amazon.com\", \"Verity: Self-Flying Drones Deliver Your Zero-Error Warehouse\"]\n",
    "\n",
    "# Use Tfid from SKLearn on our book titles from Amazon so we get a sparse matrix of n_samples and n_features via tf-idf weighted document-term matrix\n",
    "tfidf_matrix2 = vectorizer.fit_transform(documents)\n",
    "\n",
    "for idx in range(len(documents)):\n",
    "    # tf-idf in sklearn produces normalized vectors :. cosine_similarity is equivalent to linear_kernel, but slower. Let's use linear_kernal, b/c gotta go fast\n",
    "    # compare row 1 and row 2 and calculate cosine similarity\n",
    "    cosine_similarities = linear_kernel(tfidf_matrix2[idx], tfidf_matrix2).flatten()\n",
    "    # make pairs of (index, similarity)\n",
    "    cosine_similarities = list(enumerate(cosine_similarities))\n",
    "    \n",
    "cosine_similarities"
   ]
  },
  {
   "cell_type": "markdown",
   "metadata": {},
   "source": [
    "The Amazon listings have the higher similarities"
   ]
  }
 ],
 "metadata": {
  "interpreter": {
   "hash": "252e9a3d70f6afcbbc5476fbf134266e4b61985192d61eccc1fa8f9246d29b88"
  },
  "kernelspec": {
   "display_name": "Python 3.8.3 ('base')",
   "language": "python",
   "name": "python3"
  },
  "language_info": {
   "codemirror_mode": {
    "name": "ipython",
    "version": 3
   },
   "file_extension": ".py",
   "mimetype": "text/x-python",
   "name": "python",
   "nbconvert_exporter": "python",
   "pygments_lexer": "ipython3",
   "version": "3.8.12"
  },
  "orig_nbformat": 4
 },
 "nbformat": 4,
 "nbformat_minor": 2
}
